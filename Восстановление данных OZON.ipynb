{
 "cells": [
  {
   "cell_type": "code",
   "execution_count": null,
   "id": "2c3bc21e",
   "metadata": {},
   "outputs": [],
   "source": [
    "import requests\n",
    "import urllib.request\n",
    "import json\n",
    "import pandas as pd\n",
    "import time\n",
    "from datetime import datetime, timedelta\n",
    "from sqlalchemy import create_engine, event\n",
    "from urllib.parse import quote_plus\n",
    "import sys\n",
    "import datetime as DT\n",
    "import gspread\n",
    "from gspread_dataframe import set_with_dataframe\n",
    "from google.oauth2.service_account import Credentials\n",
    "from pydrive.auth import GoogleAuth\n",
    "from pydrive.drive import GoogleDrive\n",
    "import re"
   ]
  },
  {
   "cell_type": "code",
   "execution_count": null,
   "id": "02bf21ec",
   "metadata": {},
   "outputs": [],
   "source": [
    "scopes = ['https://www.googleapis.com/auth/spreadsheets',\n",
    "          'https://www.googleapis.com/auth/drive']\n",
    "\n",
    "credentials = Credentials.from_service_account_file('lively-clover-265718-6f7adafc0648.json', scopes=scopes)\n",
    "\n",
    "gc = gspread.authorize(credentials)\n",
    "\n",
    "gauth = GoogleAuth()\n",
    "drive = GoogleDrive(gauth)"
   ]
  },
  {
   "cell_type": "code",
   "execution_count": null,
   "id": "51386e11",
   "metadata": {},
   "outputs": [],
   "source": [
    "API_KEY = \"\"\n",
    "CLIENT_ID = ''\n",
    "hdrs = {\"Client-Id\": CLIENT_ID, \"Api-Key\": API_KEY,\"Content-Type\": \"application/json\"}"
   ]
  },
  {
   "cell_type": "code",
   "execution_count": null,
   "id": "e1b37a58",
   "metadata": {},
   "outputs": [],
   "source": [
    "#Выгружаем отчет по транзакциям за нужный период\n",
    "\n",
    "url = \"https://api-seller.ozon.ru/v3/finance/transaction/list\"\n",
    "\n",
    "date_from = \"2023-05-01T00:00:00.000Z\"\n",
    "date_to = \"2023-05-16T00:00:00.000Z\"\n",
    "\n",
    "body = {\n",
    "        \"filter\": {\n",
    "            \"date\": {\n",
    "                \"from\": date_from,\n",
    "                \"to\": date_to\n",
    "            },\n",
    "            \"operation_type\": [],\n",
    "            \"posting_number\": \"\",\n",
    "            \"transaction_type\": \"all\"\n",
    "        },\n",
    "        \"page\": 1,\n",
    "        \"page_size\": 1000\n",
    "    }\n",
    "body = json.dumps(body)\n",
    "\n",
    "report_data = requests.post(url, headers=hdrs, data=body)\n",
    "json_report_data = report_data.json()"
   ]
  },
  {
   "cell_type": "code",
   "execution_count": null,
   "id": "21b89c8a",
   "metadata": {},
   "outputs": [],
   "source": [
    "report_data.text"
   ]
  },
  {
   "cell_type": "code",
   "execution_count": null,
   "id": "3cc4312a",
   "metadata": {},
   "outputs": [],
   "source": [
    "\n",
    "data_to_df = json_report_data[\"result\"][\"operations\"]\n",
    "df_5 = pd.json_normalize(data_to_df, errors='ignore', sep=' ', max_level=None)\n",
    "#df_flatten_1 = pd.json_normalize(data_to_df, errors='ignore', sep=' ', max_level=None,record_path=['items'])\n",
    "#df_1 = df_1.drop(columns='items')\n",
    "df_5 = df_5.drop(columns='services')\n",
    "df_5['items'] = df_5['items'].apply(lambda x: re.sub(\"[',[,{,:]\", \" \", str(x)).replace('name','').replace(']','').replace('sku',''))"
   ]
  },
  {
   "cell_type": "code",
   "execution_count": null,
   "id": "619ca6d7",
   "metadata": {},
   "outputs": [],
   "source": [
    "finance_report = pd.concat([df_1,df_2,df_3,df_4,df_5]).drop_duplicates()"
   ]
  },
  {
   "cell_type": "code",
   "execution_count": null,
   "id": "ac1ede28",
   "metadata": {},
   "outputs": [],
   "source": [
    "finance_report[finance_report.duplicated()]"
   ]
  },
  {
   "cell_type": "code",
   "execution_count": null,
   "id": "32064ef2",
   "metadata": {},
   "outputs": [],
   "source": [
    "#Записываем данные в гугл шит\n",
    "# open a google sheet\n",
    "gs = gc.open_by_key('')\n",
    "# select a work sheet from its name\n",
    "worksheet1 = gs.worksheet('FINANCE_REPORT')\n",
    "\n",
    "worksheet1.clear()\n",
    "set_with_dataframe(worksheet=worksheet1, dataframe=finance_report, include_index=False,include_column_header=True, resize=True)"
   ]
  },
  {
   "cell_type": "markdown",
   "id": "1db502d7",
   "metadata": {},
   "source": [
    "#Отчет по заказам"
   ]
  },
  {
   "cell_type": "code",
   "execution_count": null,
   "id": "1bb4c421",
   "metadata": {},
   "outputs": [],
   "source": [
    "url = \"https://api-seller.ozon.ru/v1/report/postings/create\"\n",
    "url_2 = \"https://api-seller.ozon.ru/v1/report/info\"\n",
    "date_from = \"2023-05-01T00:00:00.000Z\"\n",
    "date_to = \"2023-05-16T00:00:00.000Z\"\n",
    "\n",
    "body = {\n",
    "        \"filter\": {\n",
    "    \"processed_at_from\": date_from,\n",
    "    \"processed_at_to\": date_to,\n",
    "    \"delivery_schema\": [\n",
    "    \"fbs\",\n",
    "    \"fbo\",\n",
    "    \"crossborder\"\n",
    "],\n",
    "    \"sku\": [ ],\n",
    "    \"cancel_reason_id\": [ ],\n",
    "    \"offer_id\": \"\",\n",
    "    \"status_alias\": [ ],\n",
    "    \"statuses\": [ ],\n",
    "    \"title\": \"\"\n",
    "},\n",
    "\"language\": \"DEFAULT\"\n",
    "    }\n",
    "\n",
    "body = json.dumps(body)\n",
    "report_data = requests.post(url, headers=hdrs, data=body)\n",
    "json_report_data = report_data.json()\n",
    "\n",
    "json_report_data\n",
    "\n"
   ]
  },
  {
   "cell_type": "code",
   "execution_count": null,
   "id": "a376e4ec",
   "metadata": {},
   "outputs": [],
   "source": [
    "report_data = requests.post(url_2, headers=hdrs, json=json_report_data['result'])\n",
    "json_report_data = report_data.json()"
   ]
  },
  {
   "cell_type": "code",
   "execution_count": null,
   "id": "e8d493d0",
   "metadata": {},
   "outputs": [],
   "source": [
    "report_data.text"
   ]
  },
  {
   "cell_type": "code",
   "execution_count": null,
   "id": "dbed1c62",
   "metadata": {},
   "outputs": [],
   "source": [
    "urllib.request.urlretrieve(json_report_data['result']['file'], \"Orders.csv\")"
   ]
  },
  {
   "cell_type": "code",
   "execution_count": null,
   "id": "c1c94e81",
   "metadata": {},
   "outputs": [],
   "source": [
    "orders_df_5 = pd.read_csv(\"Orders.csv\",sep=';')\n",
    "\n",
    "orders_df_5"
   ]
  },
  {
   "cell_type": "code",
   "execution_count": null,
   "id": "23521c92",
   "metadata": {},
   "outputs": [],
   "source": [
    "orders_df_1\n",
    "orders_df_2\n",
    "orders_df_3\n",
    "orders_df_4\n",
    "orders_df_5"
   ]
  },
  {
   "cell_type": "code",
   "execution_count": null,
   "id": "34c2c260",
   "metadata": {},
   "outputs": [],
   "source": [
    "orders_final = pd.concat([orders_df_1,orders_df_2,orders_df_3,orders_df_4,orders_df_5]).drop_duplicates()"
   ]
  },
  {
   "cell_type": "code",
   "execution_count": null,
   "id": "4c53e1dd",
   "metadata": {},
   "outputs": [],
   "source": [
    "orders_final[orders_final.duplicated()]"
   ]
  },
  {
   "cell_type": "code",
   "execution_count": null,
   "id": "f4f9710c",
   "metadata": {},
   "outputs": [],
   "source": [
    "# open a google sheet\n",
    "gs = gc.open_by_key('')\n",
    "# select a work sheet from its name\n",
    "worksheet1 = gs.worksheet('ORDERS')"
   ]
  },
  {
   "cell_type": "code",
   "execution_count": null,
   "id": "429b5e93",
   "metadata": {},
   "outputs": [],
   "source": [
    "# write to dataframe\n",
    "\n",
    "worksheet1.clear()\n",
    "set_with_dataframe(worksheet=worksheet1, dataframe=orders_final, include_index=False,include_column_header=True, resize=True)"
   ]
  },
  {
   "cell_type": "code",
   "execution_count": null,
   "id": "6b3d402f",
   "metadata": {},
   "outputs": [],
   "source": [
    "finance_report\n",
    "orders_final"
   ]
  },
  {
   "cell_type": "code",
   "execution_count": null,
   "id": "03b17521",
   "metadata": {},
   "outputs": [],
   "source": [
    "#Берем нужные колонки из orders\n",
    "total_orders_1 = orders_final[['Номер отправления','Статус','Артикул','Цена','Количество']]\n",
    "\n",
    "#Объединяем их с FINANCE\n",
    "final_finance = finance_report.merge(total_orders_1,how='left',left_on='posting posting_number', right_on='Номер отправления')"
   ]
  },
  {
   "cell_type": "code",
   "execution_count": null,
   "id": "f7dd69ed",
   "metadata": {},
   "outputs": [],
   "source": [
    "final_finance = final_finance.drop_duplicates().fillna('')"
   ]
  },
  {
   "cell_type": "code",
   "execution_count": null,
   "id": "4e8ffa4c",
   "metadata": {},
   "outputs": [],
   "source": [
    "final_finance[final_finance.duplicated()]"
   ]
  },
  {
   "cell_type": "code",
   "execution_count": null,
   "id": "9b36c2a1",
   "metadata": {},
   "outputs": [],
   "source": [
    "#Записываем данные в гугл шит\n",
    "# open a google sheet\n",
    "gs = gc.open_by_key('')\n",
    "# select a work sheet from its name\n",
    "worksheet1 = gs.worksheet('TOTAL_FINANCE')\n",
    "\n",
    "worksheet1.clear()\n",
    "set_with_dataframe(worksheet=worksheet1, dataframe=final_finance, include_index=False,include_column_header=True, resize=True)"
   ]
  }
 ],
 "metadata": {
  "kernelspec": {
   "display_name": "Python 3 (ipykernel)",
   "language": "python",
   "name": "python3"
  },
  "language_info": {
   "codemirror_mode": {
    "name": "ipython",
    "version": 3
   },
   "file_extension": ".py",
   "mimetype": "text/x-python",
   "name": "python",
   "nbconvert_exporter": "python",
   "pygments_lexer": "ipython3",
   "version": "3.9.12"
  }
 },
 "nbformat": 4,
 "nbformat_minor": 5
}
