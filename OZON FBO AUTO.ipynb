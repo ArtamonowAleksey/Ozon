{
 "cells": [
  {
   "cell_type": "code",
   "execution_count": 1,
   "id": "988a4915",
   "metadata": {},
   "outputs": [],
   "source": [
    "import requests\n",
    "import urllib.request\n",
    "import json\n",
    "import pandas as pd\n",
    "import time\n",
    "from datetime import datetime, timedelta\n",
    "from sqlalchemy import create_engine, event\n",
    "from urllib.parse import quote_plus\n",
    "import sys\n",
    "import datetime as DT\n",
    "import gspread\n",
    "from gspread_dataframe import set_with_dataframe\n",
    "from google.oauth2.service_account import Credentials\n",
    "from pydrive.auth import GoogleAuth\n",
    "from pydrive.drive import GoogleDrive\n",
    "import re"
   ]
  },
  {
   "cell_type": "code",
   "execution_count": 2,
   "id": "2d00274f",
   "metadata": {},
   "outputs": [],
   "source": [
    "API_KEY = \"\"\n",
    "CLIENT_ID = ''\n",
    "hdrs = {\"Client-Id\": CLIENT_ID, \"Api-Key\": API_KEY,\"Content-Type\": \"application/json\"}"
   ]
  },
  {
   "cell_type": "code",
   "execution_count": 3,
   "id": "dc49566f",
   "metadata": {},
   "outputs": [],
   "source": [
    "scopes = ['https://www.googleapis.com/auth/spreadsheets',\n",
    "          'https://www.googleapis.com/auth/drive']\n",
    "\n",
    "credentials = Credentials.from_service_account_file('lively-clover-265718-6f7adafc0648.json', scopes=scopes)\n",
    "\n",
    "gc = gspread.authorize(credentials)\n",
    "\n",
    "gauth = GoogleAuth()\n",
    "drive = GoogleDrive(gauth)"
   ]
  },
  {
   "cell_type": "code",
   "execution_count": 4,
   "id": "40c00537",
   "metadata": {},
   "outputs": [],
   "source": [
    "url = \"\"\n",
    "url_2 = \"\"\n",
    "\n",
    "\n",
    "body = {\n",
    "        \n",
    "\"limit\": 1000,\n",
    "\"offset\": 0,\n",
    "\"warehouse_type\": \"ALL\"\n",
    "    }\n",
    "\n",
    "body = json.dumps(body)\n",
    "report_data = requests.post(url, headers=hdrs, data=body)\n",
    "json_report_data = report_data.json()"
   ]
  },
  {
   "cell_type": "code",
   "execution_count": 5,
   "id": "b09fce57",
   "metadata": {},
   "outputs": [],
   "source": [
    "data_to_df = json_report_data[\"result\"][\"rows\"]\n",
    "df_fbo = pd.json_normalize(data_to_df, errors='ignore', sep='.', max_level=None)\n"
   ]
  },
  {
   "cell_type": "code",
   "execution_count": 6,
   "id": "cf0b60c9",
   "metadata": {},
   "outputs": [],
   "source": [
    "#Записываем данные в гугл шит\n",
    "# open a google sheet\n",
    "gs = gc.open_by_key('')\n",
    "# select a work sheet from its name\n",
    "worksheet1 = gs.worksheet('FBO STOCK')\n",
    "\n",
    "worksheet1.clear()\n",
    "set_with_dataframe(worksheet=worksheet1, dataframe=df_fbo, include_index=False,include_column_header=True, resize=True)"
   ]
  },
  {
   "cell_type": "code",
   "execution_count": null,
   "id": "79b0b906",
   "metadata": {},
   "outputs": [],
   "source": [
    "#Логируем результат скрипта в таблицу\n",
    "\n"
   ]
  }
 ],
 "metadata": {
  "kernelspec": {
   "display_name": "Python 3 (ipykernel)",
   "language": "python",
   "name": "python3"
  },
  "language_info": {
   "codemirror_mode": {
    "name": "ipython",
    "version": 3
   },
   "file_extension": ".py",
   "mimetype": "text/x-python",
   "name": "python",
   "nbconvert_exporter": "python",
   "pygments_lexer": "ipython3",
   "version": "3.9.12"
  }
 },
 "nbformat": 4,
 "nbformat_minor": 5
}
