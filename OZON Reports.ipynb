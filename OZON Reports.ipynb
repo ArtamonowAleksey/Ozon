{
 "cells": [
  {
   "cell_type": "code",
   "execution_count": null,
   "id": "8351e652",
   "metadata": {},
   "outputs": [],
   "source": [
    "import requests\n",
    "import urllib.request\n",
    "import json\n",
    "import pandas as pd\n",
    "import time\n",
    "from datetime import datetime, timedelta\n",
    "from sqlalchemy import create_engine, event\n",
    "from urllib.parse import quote_plus\n",
    "import sys\n",
    "import datetime as DT\n",
    "import gspread\n",
    "from gspread_dataframe import set_with_dataframe\n",
    "from google.oauth2.service_account import Credentials\n",
    "from pydrive.auth import GoogleAuth\n",
    "from pydrive.drive import GoogleDrive\n",
    "import re"
   ]
  },
  {
   "cell_type": "code",
   "execution_count": null,
   "id": "545cd71a",
   "metadata": {},
   "outputs": [],
   "source": [
    "scopes = ['https://www.googleapis.com/auth/spreadsheets',\n",
    "          'https://www.googleapis.com/auth/drive']\n",
    "\n",
    "credentials = Credentials.from_service_account_file('lively-clover-265718-6f7adafc0648.json', scopes=scopes)\n",
    "\n",
    "gc = gspread.authorize(credentials)\n",
    "\n",
    "gauth = GoogleAuth()\n",
    "drive = GoogleDrive(gauth)"
   ]
  },
  {
   "cell_type": "code",
   "execution_count": null,
   "id": "8d184a3a",
   "metadata": {},
   "outputs": [],
   "source": [
    "API_KEY = \"\"\n",
    "CLIENT_ID = '515935'\n",
    "hdrs = {\"Client-Id\": CLIENT_ID, \"Api-Key\": API_KEY,\"Content-Type\": \"application/json\"}"
   ]
  },
  {
   "cell_type": "code",
   "execution_count": null,
   "id": "a5bc52ac",
   "metadata": {},
   "outputs": [],
   "source": [
    "#Выгружаем данные из FINANCE_REPORT которые уже есть у нас"
   ]
  },
  {
   "cell_type": "code",
   "execution_count": null,
   "id": "d4a8fc24",
   "metadata": {},
   "outputs": [],
   "source": [
    "# open a google sheet\n",
    "gs = gc.open_by_key('')\n",
    "\n",
    "# select a work sheet from its name\n",
    "worksheet1 = gs.worksheet('FINANCE_REPORT')\n",
    "\n",
    "#Преобразуем в Dataframe\n",
    "finance_report = pd.DataFrame(worksheet1.get_all_records())\n",
    "\n",
    "#берем нужные колонки\n",
    "\n",
    "finance_report = finance_report.loc[:,:'posting warehouse_id']"
   ]
  },
  {
   "cell_type": "code",
   "execution_count": null,
   "id": "7fb2e362",
   "metadata": {},
   "outputs": [],
   "source": [
    "#Печатаем нужные даты \n",
    "\n",
    "print(finance_report['operation_date'].max(),datetime.today().strftime('%Y-%m-%d'))"
   ]
  },
  {
   "cell_type": "code",
   "execution_count": null,
   "id": "e1b37a58",
   "metadata": {},
   "outputs": [],
   "source": [
    "#Выгружаем отчет по транзакциям за нужный период\n",
    "\n",
    "url = \"https://api-seller.ozon.ru/v3/finance/transaction/list\"\n",
    "\n",
    "date_from = \"2023-05-30T00:00:00.000Z\" #дата на день больше чем в нашем отчете\n",
    "date_to = \"2023-05-31T00:00:00.000Z\" #дата на день меньше чем сегодняшняя\n",
    "\n",
    "body = {\n",
    "        \"filter\": {\n",
    "            \"date\": {\n",
    "                \"from\": date_from,\n",
    "                \"to\": date_to\n",
    "            },\n",
    "            \"operation_type\": [],\n",
    "            \"posting_number\": \"\",\n",
    "            \"transaction_type\": \"all\"\n",
    "        },\n",
    "        \"page\": 1,\n",
    "        \"page_size\": 1000\n",
    "    }\n",
    "body = json.dumps(body)\n",
    "\n",
    "report_data = requests.post(url, headers=hdrs, data=body)\n",
    "json_report_data = report_data.json()"
   ]
  },
  {
   "cell_type": "code",
   "execution_count": null,
   "id": "92c7e214",
   "metadata": {},
   "outputs": [],
   "source": [
    "report_data.text"
   ]
  },
  {
   "cell_type": "code",
   "execution_count": null,
   "id": "3cc4312a",
   "metadata": {},
   "outputs": [],
   "source": [
    "\n",
    "data_to_df = json_report_data[\"result\"][\"operations\"]\n",
    "df = pd.json_normalize(data_to_df, errors='ignore', sep='.', max_level=None)\n",
    "#df = df.drop(columns='items')\n",
    "df = df.drop(columns='services')\n",
    "\n",
    "df['items'] = df['items'].apply(lambda x: re.sub(\"[',[,{,:]\", \" \", str(x)).replace('name','').replace(']','').replace('sku',''))"
   ]
  },
  {
   "cell_type": "code",
   "execution_count": null,
   "id": "4ef0636a",
   "metadata": {
    "scrolled": true
   },
   "outputs": [],
   "source": [
    "df"
   ]
  },
  {
   "cell_type": "code",
   "execution_count": null,
   "id": "6cbc38fa",
   "metadata": {},
   "outputs": [],
   "source": [
    "#Добавляем в гугл шит\n",
    "\n",
    "df_values = df.values.tolist()\n",
    "gs.values_append('FINANCE_REPORT', {'valueInputOption': 'RAW'}, {'values': df_values})"
   ]
  },
  {
   "cell_type": "code",
   "execution_count": null,
   "id": "a97d73f6",
   "metadata": {},
   "outputs": [],
   "source": [
    "#Берем имеющиеся у нас данные по Orders\n",
    "\n",
    "# open a google sheet\n",
    "gs = gc.open_by_key('')\n",
    "\n",
    "# select a work sheet from its name\n",
    "worksheet1 = gs.worksheet('ORDERS')\n",
    "\n",
    "#Преобразуем в Dataframe\n",
    "orders_report = pd.DataFrame(worksheet1.get_all_records())\n"
   ]
  },
  {
   "cell_type": "code",
   "execution_count": null,
   "id": "9634baf8",
   "metadata": {
    "scrolled": true
   },
   "outputs": [],
   "source": [
    "orders_report"
   ]
  },
  {
   "cell_type": "code",
   "execution_count": null,
   "id": "dd5ce21c",
   "metadata": {},
   "outputs": [],
   "source": [
    "print(orders_report['Дата'].max(),datetime.today().strftime('%Y-%m-%d'))"
   ]
  },
  {
   "cell_type": "code",
   "execution_count": null,
   "id": "0744d655",
   "metadata": {},
   "outputs": [],
   "source": [
    "#Удаляем последний месяц\n",
    "\n",
    "orders_report = orders_report.drop(orders_report[orders_report['Дата'] >='2023-05-01'].index)\n"
   ]
  },
  {
   "cell_type": "code",
   "execution_count": null,
   "id": "cba722ba",
   "metadata": {},
   "outputs": [],
   "source": [
    "#Записываем в гугл шит\n",
    "\n",
    "#Записываем данные в гугл шит\n",
    "# open a google sheet\n",
    "gs = gc.open_by_key('')\n",
    "# select a work sheet from its name\n",
    "worksheet1 = gs.worksheet('ORDERS')\n",
    "\n",
    "# write to dataframe\n",
    "\n",
    "worksheet1.clear()\n",
    "set_with_dataframe(worksheet=worksheet1, dataframe=orders_report, include_index=False,include_column_header=True, resize=True)"
   ]
  },
  {
   "cell_type": "code",
   "execution_count": null,
   "id": "fd92cbe4",
   "metadata": {},
   "outputs": [],
   "source": [
    "#Выгружаем данные из Orders за месяц до вчерашнего числа"
   ]
  },
  {
   "cell_type": "code",
   "execution_count": null,
   "id": "798d374e",
   "metadata": {},
   "outputs": [],
   "source": [
    "url = \"https://api-seller.ozon.ru/v1/report/postings/create\"\n",
    "url_2 = \"https://api-seller.ozon.ru/v1/report/info\"\n",
    "date_from = \"2023-05-01T00:00:00.000Z\"\n",
    "date_to = \"2023-05-31T00:00:00.000Z\"\n",
    "\n",
    "body = {\n",
    "        \"filter\": {\n",
    "    \"processed_at_from\": date_from,\n",
    "    \"processed_at_to\": date_to,\n",
    "    \"delivery_schema\": [\n",
    "    \"fbs\",\n",
    "    \"fbo\",\n",
    "    \"crossborder\"\n",
    "],\n",
    "    \"sku\": [ ],\n",
    "    \"cancel_reason_id\": [ ],\n",
    "    \"offer_id\": \"\",\n",
    "    \"status_alias\": [ ],\n",
    "    \"statuses\": [ ],\n",
    "    \"title\": \"\"\n",
    "},\n",
    "\"language\": \"DEFAULT\"\n",
    "    }\n",
    "\n",
    "body = json.dumps(body)\n",
    "report_data = requests.post(url, headers=hdrs, data=body)\n",
    "json_report_data = report_data.json()"
   ]
  },
  {
   "cell_type": "code",
   "execution_count": null,
   "id": "2a3c299b",
   "metadata": {},
   "outputs": [],
   "source": [
    "json_report_data"
   ]
  },
  {
   "cell_type": "code",
   "execution_count": null,
   "id": "5a294f18",
   "metadata": {
    "scrolled": false
   },
   "outputs": [],
   "source": [
    "json_report_data['result']['code']"
   ]
  },
  {
   "cell_type": "code",
   "execution_count": null,
   "id": "6518c333",
   "metadata": {},
   "outputs": [],
   "source": [
    "report_data = requests.post(url_2, headers=hdrs, json=json_report_data['result'])\n",
    "json_report_data = report_data.json()"
   ]
  },
  {
   "cell_type": "code",
   "execution_count": null,
   "id": "6f1dc9ed",
   "metadata": {
    "scrolled": true
   },
   "outputs": [],
   "source": [
    "report_data.text"
   ]
  },
  {
   "cell_type": "code",
   "execution_count": null,
   "id": "4bedb07d",
   "metadata": {},
   "outputs": [],
   "source": [
    "urllib.request.urlretrieve(json_report_data['result']['file'], \"Orders.csv\")"
   ]
  },
  {
   "cell_type": "code",
   "execution_count": null,
   "id": "4eda67fc",
   "metadata": {},
   "outputs": [],
   "source": [
    "orders_df = pd.read_csv(\"Orders.csv\",sep=';')"
   ]
  },
  {
   "cell_type": "code",
   "execution_count": null,
   "id": "6834e998",
   "metadata": {},
   "outputs": [],
   "source": [
    "orders_df"
   ]
  },
  {
   "cell_type": "code",
   "execution_count": null,
   "id": "5a7d186a",
   "metadata": {},
   "outputs": [],
   "source": [
    "#Добавляем в гугл шит\n",
    "\n",
    "orders_df_list = orders_df.values.tolist()\n",
    "gs.values_append('ORDERS', {'valueInputOption': 'RAW'}, {'values': orders_df_list})"
   ]
  },
  {
   "cell_type": "code",
   "execution_count": null,
   "id": "94af7c10",
   "metadata": {},
   "outputs": [],
   "source": [
    "#Берем максимальную дату из TOTAL_FINANCE\n",
    "\n",
    "\n",
    "# open a google sheet\n",
    "gs = gc.open_by_key('')\n",
    "\n",
    "# select a work sheet from its name\n",
    "worksheet1 = gs.worksheet('TOTAL_FINANCE')\n",
    "\n",
    "#Преобразуем в Dataframe\n",
    "TOTAL_FINANCE = pd.DataFrame(worksheet1.get_all_records())\n",
    "\n",
    "\n",
    "print(TOTAL_FINANCE['operation_date'].max())"
   ]
  },
  {
   "cell_type": "code",
   "execution_count": null,
   "id": "c46e0abb",
   "metadata": {},
   "outputs": [],
   "source": [
    "orders_df"
   ]
  },
  {
   "cell_type": "code",
   "execution_count": null,
   "id": "6a311f1f",
   "metadata": {},
   "outputs": [],
   "source": [
    "orders_df = orders_df[['Номер отправления','Статус','Артикул','Цена','Количество']]\n",
    "final_finance = df.merge(orders_df,how='left',left_on='posting.posting_number', right_on='Номер отправления')"
   ]
  },
  {
   "cell_type": "code",
   "execution_count": null,
   "id": "d7d2e278",
   "metadata": {},
   "outputs": [],
   "source": [
    "#Добавляем в гугл шит\n",
    "final_finance = final_finance.fillna('')\n",
    "\n",
    "final_finance_list = final_finance.values.tolist()\n",
    "gs.values_append('TOTAL_FINANCE', {'valueInputOption': 'RAW'}, {'values': final_finance_list})"
   ]
  },
  {
   "cell_type": "code",
   "execution_count": null,
   "id": "e001c58d",
   "metadata": {},
   "outputs": [],
   "source": [
    "#Объединяем нашу выгрузку с выгрузкой из озона и убираем дубли\n",
    "\n",
    "orders_final = pd.concat([orders_report,orders_df]).drop_duplicates()"
   ]
  },
  {
   "cell_type": "code",
   "execution_count": null,
   "id": "480ab7a7",
   "metadata": {},
   "outputs": [],
   "source": [
    "orders_final[orders_final.duplicated()]"
   ]
  },
  {
   "cell_type": "code",
   "execution_count": null,
   "id": "6618eb3a",
   "metadata": {},
   "outputs": [],
   "source": [
    "orders_final"
   ]
  },
  {
   "cell_type": "code",
   "execution_count": null,
   "id": "496db29c",
   "metadata": {},
   "outputs": [],
   "source": [
    "#Записываем данные в гугл шит\n",
    "# open a google sheet\n",
    "gs = gc.open_by_key('')\n",
    "# select a work sheet from its name\n",
    "worksheet1 = gs.worksheet('ORDERS')\n",
    "\n",
    "# write to dataframe\n",
    "\n",
    "worksheet1.clear()\n",
    "set_with_dataframe(worksheet=worksheet1, dataframe=orders_final, include_index=False,include_column_header=True, resize=True)"
   ]
  },
  {
   "cell_type": "code",
   "execution_count": null,
   "id": "101df64b",
   "metadata": {},
   "outputs": [],
   "source": [
    "#Берем нужные колонки из orders\n",
    "total_orders_1 = orders_final[['Номер отправления','Статус','Артикул','Цена','Количество']]\n",
    "\n",
    "#Объединяем их с FINANCE\n",
    "final_finance = df.merge(total_orders_1,how='left',left_on='posting.posting_number', right_on='Номер отправления')"
   ]
  },
  {
   "cell_type": "code",
   "execution_count": null,
   "id": "3ea5d571",
   "metadata": {},
   "outputs": [],
   "source": [
    "final_finance = final_finance.fillna('')"
   ]
  },
  {
   "cell_type": "code",
   "execution_count": null,
   "id": "cb2dc347",
   "metadata": {},
   "outputs": [],
   "source": [
    "final_finance.drop_duplicates(inplace=True)"
   ]
  },
  {
   "cell_type": "code",
   "execution_count": null,
   "id": "bced6b34",
   "metadata": {},
   "outputs": [],
   "source": [
    "final_finance[final_finance.duplicated()]"
   ]
  },
  {
   "cell_type": "code",
   "execution_count": null,
   "id": "45c1f2cd",
   "metadata": {},
   "outputs": [],
   "source": [
    "#Записываем данные в гугл шит\n",
    "# open a google sheet\n",
    "gs = gc.open_by_key('')\n",
    "# select a work sheet from its name\n",
    "worksheet1 = gs.worksheet('FINANCE_REPORT')\n",
    "#Дозаписываем в гугл шит\n",
    "\n",
    "df_values = final_finance.values.tolist()\n",
    "gs.values_append('FINANCE_REPORT', {'valueInputOption': 'RAW'}, {'values': df_values})\n"
   ]
  },
  {
   "cell_type": "code",
   "execution_count": null,
   "id": "88f3a04d",
   "metadata": {},
   "outputs": [],
   "source": [
    "df_values"
   ]
  },
  {
   "cell_type": "code",
   "execution_count": null,
   "id": "90941166",
   "metadata": {},
   "outputs": [],
   "source": [
    "total_orders = pd.concat([orders_df,orders_df_2,orders_df_3])"
   ]
  },
  {
   "cell_type": "code",
   "execution_count": null,
   "id": "e1a12bb6",
   "metadata": {
    "scrolled": true
   },
   "outputs": [],
   "source": [
    "total_orders.drop_duplicates()"
   ]
  },
  {
   "cell_type": "code",
   "execution_count": null,
   "id": "e1334054",
   "metadata": {},
   "outputs": [],
   "source": [
    "# open a google sheet\n",
    "gs = gc.open_by_key('')\n",
    "# select a work sheet from its name\n",
    "worksheet1 = gs.worksheet('ORDERS')"
   ]
  },
  {
   "cell_type": "code",
   "execution_count": null,
   "id": "7f77bd9d",
   "metadata": {},
   "outputs": [],
   "source": [
    "# write to dataframe\n",
    "\n",
    "worksheet1.clear()\n",
    "set_with_dataframe(worksheet=worksheet1, dataframe=total_orders, include_index=False,include_column_header=True, resize=True)"
   ]
  },
  {
   "cell_type": "code",
   "execution_count": null,
   "id": "9ef8a112",
   "metadata": {},
   "outputs": [],
   "source": [
    "total_orders_1 = total_orders[['Номер отправления','Статус','Артикул','Цена','Количество']]"
   ]
  },
  {
   "cell_type": "code",
   "execution_count": null,
   "id": "449bf1ed",
   "metadata": {},
   "outputs": [],
   "source": [
    "final_finance = total_df.merge(total_orders_1,how='left',left_on='posting.posting_number', right_on='Номер отправления')"
   ]
  },
  {
   "cell_type": "code",
   "execution_count": null,
   "id": "f784b4fd",
   "metadata": {},
   "outputs": [],
   "source": [
    "final_finance"
   ]
  },
  {
   "cell_type": "code",
   "execution_count": null,
   "id": "b8fb1ad7",
   "metadata": {},
   "outputs": [],
   "source": [
    "# open a google sheet\n",
    "gs = gc.open_by_key('')\n",
    "# select a work sheet from its name\n",
    "worksheet1 = gs.worksheet('FINANCE_REPORT')"
   ]
  },
  {
   "cell_type": "code",
   "execution_count": null,
   "id": "fb810ec8",
   "metadata": {},
   "outputs": [],
   "source": [
    "# write to dataframe\n",
    "\n",
    "worksheet1.clear()\n",
    "set_with_dataframe(worksheet=worksheet1, dataframe=final_finance, include_index=False,include_column_header=True, resize=True)"
   ]
  },
  {
   "cell_type": "code",
   "execution_count": null,
   "id": "8c89aa95",
   "metadata": {},
   "outputs": [],
   "source": [
    "#Запись в гугл таблицу"
   ]
  },
  {
   "cell_type": "code",
   "execution_count": null,
   "id": "4394aaf2",
   "metadata": {},
   "outputs": [],
   "source": [
    "scopes = ['https://www.googleapis.com/auth/spreadsheets',\n",
    "          'https://www.googleapis.com/auth/drive']\n",
    "\n",
    "credentials = Credentials.from_service_account_file('lively-clover-265718-6f7adafc0648.json', scopes=scopes)\n",
    "\n",
    "gc = gspread.authorize(credentials)\n",
    "\n",
    "gauth = GoogleAuth()\n",
    "drive = GoogleDrive(gauth)\n",
    "\n",
    "# open a google sheet\n",
    "gs = gc.open_by_key('')\n",
    "# select a work sheet from its name\n",
    "worksheet1 = gs.worksheet('FINANCE_REPORT')\n"
   ]
  },
  {
   "cell_type": "code",
   "execution_count": null,
   "id": "4c4a1ae5",
   "metadata": {},
   "outputs": [],
   "source": [
    "# write to dataframe\n",
    "\n",
    "worksheet1.clear()\n",
    "set_with_dataframe(worksheet=worksheet1, dataframe=total_df, include_index=False,include_column_header=True, resize=True)"
   ]
  },
  {
   "cell_type": "code",
   "execution_count": null,
   "id": "b6f303fc",
   "metadata": {
    "scrolled": true
   },
   "outputs": [],
   "source": [
    "#Append values\n",
    "\n",
    "df_values = total_df.values.tolist()\n",
    "gs.values_append('FINANCE_REPORT', {'valueInputOption': 'RAW'}, {'values': df_values})"
   ]
  },
  {
   "cell_type": "code",
   "execution_count": null,
   "id": "656136fb",
   "metadata": {},
   "outputs": [],
   "source": [
    "Orders \n",
    "#https://docs.google.com/spreadsheets/d/'1_24Q5hstJ7Ib15XMXOgcDAgqRgXoc83mnm9uRm96N9s'/edit?usp=sharing"
   ]
  },
  {
   "cell_type": "code",
   "execution_count": null,
   "id": "1ad9bf9b",
   "metadata": {},
   "outputs": [],
   "source": [
    "url = \"https://api-seller.ozon.ru/v1/report/postings/create\"\n",
    "url_2 = \"https://api-seller.ozon.ru/v1/report/info\"\n",
    "date_from = \"2023-03-01T00:00:00.000Z\"\n",
    "date_to = \"2023-04-30T00:00:00.000Z\"\n",
    "\n",
    "body = {\n",
    "        \"filter\": {\n",
    "    \"processed_at_from\": date_from,\n",
    "    \"processed_at_to\": date_to,\n",
    "    \"delivery_schema\": [\n",
    "    \"fbs\",\n",
    "    \"fbo\",\n",
    "    \"crossborder\"\n",
    "],\n",
    "    \"sku\": [ ],\n",
    "    \"cancel_reason_id\": [ ],\n",
    "    \"offer_id\": \"\",\n",
    "    \"status_alias\": [ ],\n",
    "    \"statuses\": [ ],\n",
    "    \"title\": \"\"\n",
    "},\n",
    "\"language\": \"DEFAULT\"\n",
    "    }\n",
    "\n",
    "body = json.dumps(body)\n",
    "report_data = requests.post(url, headers=hdrs, data=body)\n",
    "json_report_data = report_data.json()"
   ]
  },
  {
   "cell_type": "code",
   "execution_count": null,
   "id": "7e59f0c7",
   "metadata": {},
   "outputs": [],
   "source": [
    "json_report_data"
   ]
  },
  {
   "cell_type": "code",
   "execution_count": null,
   "id": "61138353",
   "metadata": {
    "scrolled": false
   },
   "outputs": [],
   "source": [
    "json_report_data['result']['code']"
   ]
  },
  {
   "cell_type": "code",
   "execution_count": null,
   "id": "ae87f804",
   "metadata": {},
   "outputs": [],
   "source": [
    "report_data = requests.post(url_2, headers=hdrs, json=json_report_data['result'])\n",
    "json_report_data = report_data.json()"
   ]
  },
  {
   "cell_type": "code",
   "execution_count": null,
   "id": "744de1e1",
   "metadata": {
    "scrolled": true
   },
   "outputs": [],
   "source": [
    "report_data.text"
   ]
  },
  {
   "cell_type": "code",
   "execution_count": null,
   "id": "0cba2cfb",
   "metadata": {},
   "outputs": [],
   "source": [
    "urllib.request.urlretrieve(json_report_data['result']['file'], \"Orders.csv\")"
   ]
  },
  {
   "cell_type": "code",
   "execution_count": null,
   "id": "1026a6ca",
   "metadata": {},
   "outputs": [],
   "source": [
    "orders_df_2 = pd.read_csv(\"Orders.csv\",sep=';')"
   ]
  },
  {
   "cell_type": "code",
   "execution_count": null,
   "id": "2d6fd075",
   "metadata": {},
   "outputs": [],
   "source": [
    "orders_df_2"
   ]
  },
  {
   "cell_type": "code",
   "execution_count": null,
   "id": "c807a132",
   "metadata": {},
   "outputs": [],
   "source": [
    "total_orders = pd.concat([orders_df,orders_df_2])"
   ]
  },
  {
   "cell_type": "code",
   "execution_count": null,
   "id": "f34e54ce",
   "metadata": {
    "scrolled": true
   },
   "outputs": [],
   "source": [
    "total_orders.drop_duplicates()"
   ]
  },
  {
   "cell_type": "code",
   "execution_count": null,
   "id": "d7d81d11",
   "metadata": {},
   "outputs": [],
   "source": [
    "# open a google sheet\n",
    "gs = gc.open_by_key('')\n",
    "# select a work sheet from its name\n",
    "worksheet1 = gs.worksheet('ORDERS')"
   ]
  },
  {
   "cell_type": "code",
   "execution_count": null,
   "id": "10162f71",
   "metadata": {},
   "outputs": [],
   "source": [
    "# write to dataframe\n",
    "\n",
    "worksheet1.clear()\n",
    "set_with_dataframe(worksheet=worksheet1, dataframe=total_orders, include_index=False,include_column_header=True, resize=True)"
   ]
  },
  {
   "cell_type": "code",
   "execution_count": null,
   "id": "c704ed4f",
   "metadata": {},
   "outputs": [],
   "source": [
    "total_orders = total_orders[['Номер отправления','Статус','Артикул','Цена','Количество']]"
   ]
  },
  {
   "cell_type": "code",
   "execution_count": null,
   "id": "722b3820",
   "metadata": {},
   "outputs": [],
   "source": [
    "total_orders"
   ]
  },
  {
   "cell_type": "code",
   "execution_count": null,
   "id": "76c4425d",
   "metadata": {},
   "outputs": [],
   "source": [
    "final_finance = df_apr.merge(total_orders,how='left',left_on='posting.posting_number', right_on='Номер отправления')"
   ]
  },
  {
   "cell_type": "code",
   "execution_count": null,
   "id": "e59f2cdc",
   "metadata": {},
   "outputs": [],
   "source": [
    "final_finance"
   ]
  },
  {
   "cell_type": "code",
   "execution_count": null,
   "id": "d37a9cf4",
   "metadata": {},
   "outputs": [],
   "source": [
    "\n",
    "# open a google sheet\n",
    "gs = gc.open_by_key('')\n",
    "# select a work sheet from its name\n",
    "worksheet1 = gs.worksheet('FINANCE_REPORT')\n"
   ]
  },
  {
   "cell_type": "code",
   "execution_count": null,
   "id": "87db6b98",
   "metadata": {},
   "outputs": [],
   "source": [
    "\n",
    "worksheet1.clear()\n",
    "set_with_dataframe(worksheet=worksheet1, dataframe=final_finance, include_index=False,include_column_header=True, resize=True)"
   ]
  },
  {
   "cell_type": "code",
   "execution_count": null,
   "id": "fa75cd7a",
   "metadata": {},
   "outputs": [],
   "source": [
    "#Остатки FBO 2"
   ]
  },
  {
   "cell_type": "code",
   "execution_count": null,
   "id": "bb8e0f98",
   "metadata": {},
   "outputs": [],
   "source": [
    "url = \"https://api-seller.ozon.ru/v2/analytics/stock_on_warehouses\"\n",
    "url_2 = \"https://api-seller.ozon.ru/v1/report/info\"\n",
    "#date_from = \"2023-02-01T00:00:00.000Z\"\n",
    "#date_to = \"2023-04-27T00:00:00.000Z\"\n",
    "\n",
    "body = {\n",
    "        \n",
    "\"limit\": 1000,\n",
    "\"offset\": 0,\n",
    "\"warehouse_type\": \"ALL\"\n",
    "    }\n",
    "\n",
    "body = json.dumps(body)\n",
    "report_data = requests.post(url, headers=hdrs, data=body)\n",
    "json_report_data = report_data.json()"
   ]
  },
  {
   "cell_type": "code",
   "execution_count": null,
   "id": "6ced402c",
   "metadata": {},
   "outputs": [],
   "source": [
    "json_report_data"
   ]
  },
  {
   "cell_type": "code",
   "execution_count": null,
   "id": "44f3e36f",
   "metadata": {},
   "outputs": [],
   "source": [
    "data_to_df = json_report_data[\"result\"][\"rows\"]\n",
    "df = pd.json_normalize(data_to_df, errors='ignore', sep='.', max_level=None)\n",
    "#df = df.drop(columns='items')\n",
    "#df = df.drop(columns='services')"
   ]
  },
  {
   "cell_type": "code",
   "execution_count": null,
   "id": "05c7af72",
   "metadata": {},
   "outputs": [],
   "source": [
    "# open a google sheet\n",
    "gs = gc.open_by_key('')\n",
    "# select a work sheet from its name\n",
    "worksheet1 = gs.worksheet('FBO STOCK')\n"
   ]
  },
  {
   "cell_type": "code",
   "execution_count": null,
   "id": "3800c86a",
   "metadata": {},
   "outputs": [],
   "source": [
    "\n",
    "worksheet1.clear()\n",
    "set_with_dataframe(worksheet=worksheet1, dataframe=df, include_index=False,include_column_header=True, resize=True)"
   ]
  },
  {
   "cell_type": "code",
   "execution_count": null,
   "id": "76140942",
   "metadata": {},
   "outputs": [],
   "source": [
    "#Остатки на складах FBO"
   ]
  },
  {
   "cell_type": "code",
   "execution_count": null,
   "id": "24ab8185",
   "metadata": {},
   "outputs": [],
   "source": [
    "url = \"https://api-seller.ozon.ru/v1/report/stock/create\"\n",
    "url_2 = \"https://api-seller.ozon.ru/v1/report/info\"\n",
    "#date_from = \"2023-02-01T00:00:00.000Z\"\n",
    "#date_to = \"2023-04-27T00:00:00.000Z\"\n",
    "\n",
    "body = {\n",
    "        \n",
    "\"language\": \"DEFAULT\"\n",
    "    }\n",
    "\n",
    "body = json.dumps(body)\n",
    "report_data = requests.post(url, headers=hdrs, data=body)\n",
    "json_report_data = report_data.json()"
   ]
  },
  {
   "cell_type": "code",
   "execution_count": null,
   "id": "ad158002",
   "metadata": {},
   "outputs": [],
   "source": [
    "json_report_data"
   ]
  },
  {
   "cell_type": "code",
   "execution_count": null,
   "id": "2057e573",
   "metadata": {},
   "outputs": [],
   "source": [
    "json_report_data['result']['code']"
   ]
  },
  {
   "cell_type": "code",
   "execution_count": null,
   "id": "fac8ab43",
   "metadata": {},
   "outputs": [],
   "source": [
    "report_data = requests.post(url_2, headers=hdrs, json=json_report_data['result'])\n",
    "json_report_data = report_data.json()"
   ]
  },
  {
   "cell_type": "code",
   "execution_count": null,
   "id": "80304e16",
   "metadata": {},
   "outputs": [],
   "source": [
    "report_data.text"
   ]
  },
  {
   "cell_type": "code",
   "execution_count": null,
   "id": "83d6d50b",
   "metadata": {},
   "outputs": [],
   "source": [
    "urllib.request.urlretrieve(json_report_data['result']['file'], \"Stock.csv\")"
   ]
  },
  {
   "cell_type": "code",
   "execution_count": null,
   "id": "a92e8a56",
   "metadata": {},
   "outputs": [],
   "source": [
    "Stock_df = pd.read_csv(\"Stock.csv\",sep=';')"
   ]
  },
  {
   "cell_type": "code",
   "execution_count": null,
   "id": "b5e533b5",
   "metadata": {},
   "outputs": [],
   "source": [
    "Stock_df"
   ]
  },
  {
   "cell_type": "code",
   "execution_count": null,
   "id": "2eae960c",
   "metadata": {},
   "outputs": [],
   "source": [
    "#Остатки FBO 2"
   ]
  },
  {
   "cell_type": "code",
   "execution_count": null,
   "id": "9ef2f250",
   "metadata": {},
   "outputs": [],
   "source": [
    "url = \"https://api-seller.ozon.ru/v2/analytics/stock_on_warehouses\"\n",
    "url_2 = \"https://api-seller.ozon.ru/v1/report/info\"\n",
    "#date_from = \"2023-02-01T00:00:00.000Z\"\n",
    "#date_to = \"2023-04-27T00:00:00.000Z\"\n",
    "\n",
    "body = {\n",
    "        \n",
    "\"limit\": 1000,\n",
    "\"offset\": 0,\n",
    "\"warehouse_type\": \"ALL\"\n",
    "    }\n",
    "\n",
    "body = json.dumps(body)\n",
    "report_data = requests.post(url, headers=hdrs, data=body)\n",
    "json_report_data = report_data.json()"
   ]
  },
  {
   "cell_type": "code",
   "execution_count": null,
   "id": "f5bbeec3",
   "metadata": {},
   "outputs": [],
   "source": [
    "json_report_data"
   ]
  },
  {
   "cell_type": "code",
   "execution_count": null,
   "id": "25ccbca1",
   "metadata": {},
   "outputs": [],
   "source": [
    "data_to_df = json_report_data[\"result\"][\"rows\"]\n",
    "df = pd.json_normalize(data_to_df, errors='ignore', sep='.', max_level=None)\n",
    "#df = df.drop(columns='items')\n",
    "#df = df.drop(columns='services')"
   ]
  },
  {
   "cell_type": "code",
   "execution_count": null,
   "id": "fdfdd690",
   "metadata": {
    "scrolled": false
   },
   "outputs": [],
   "source": [
    "df"
   ]
  },
  {
   "cell_type": "code",
   "execution_count": null,
   "id": "ab6a96cf",
   "metadata": {},
   "outputs": [],
   "source": [
    "# open a google sheet\n",
    "gs = gc.open_by_key('')\n",
    "# select a work sheet from its name\n",
    "worksheet1 = gs.worksheet('FBO STOCK')\n"
   ]
  },
  {
   "cell_type": "code",
   "execution_count": null,
   "id": "d46a1dd2",
   "metadata": {},
   "outputs": [],
   "source": [
    "\n",
    "worksheet1.clear()\n",
    "set_with_dataframe(worksheet=worksheet1, dataframe=df, include_index=False,include_column_header=True, resize=True)"
   ]
  },
  {
   "cell_type": "code",
   "execution_count": null,
   "id": "99332618",
   "metadata": {},
   "outputs": [],
   "source": [
    "#Отправления по FBO"
   ]
  },
  {
   "cell_type": "code",
   "execution_count": null,
   "id": "8c5799e1",
   "metadata": {},
   "outputs": [],
   "source": [
    "url = \"https://api-seller.ozon.ru/v2/posting/fbo/list\"\n",
    "url_2 = \"https://api-seller.ozon.ru/v1/report/info\"\n",
    "date_from = \"2023-04-01T00:00:00.000Z\"\n",
    "date_to = \"2023-04-27T00:00:00.000Z\"\n",
    "\n",
    "body = {\n",
    "        \n",
    "\"dir\": \"ASC\",\n",
    "\"filter\": {\n",
    "\"since\": date_from,\n",
    "\"status\": \"\",\n",
    "\"to\": date_to\n",
    "},\n",
    "\"limit\": 1000,\n",
    "\"offset\": 0,\n",
    "\"translit\": True,\n",
    "#\"with\": {\n",
    "#\"analytics_data\": True,\n",
    "#\"financial_data\": True\n",
    "#}\n",
    "    }\n",
    "\n",
    "body = json.dumps(body)\n",
    "report_data = requests.post(url, headers=hdrs, data=body)\n",
    "json_report_data = report_data.json()"
   ]
  },
  {
   "cell_type": "code",
   "execution_count": null,
   "id": "71b07ea4",
   "metadata": {
    "scrolled": true
   },
   "outputs": [],
   "source": [
    "json_report_data"
   ]
  },
  {
   "cell_type": "code",
   "execution_count": null,
   "id": "44d07c36",
   "metadata": {},
   "outputs": [],
   "source": [
    "data_to_df = json_report_data[\"result\"]\n",
    "df = pd.json_normalize(data_to_df, errors='ignore', sep='.', max_level=None)"
   ]
  },
  {
   "cell_type": "code",
   "execution_count": null,
   "id": "b8371963",
   "metadata": {
    "scrolled": true
   },
   "outputs": [],
   "source": [
    "df"
   ]
  },
  {
   "cell_type": "code",
   "execution_count": null,
   "id": "2a2a921d",
   "metadata": {},
   "outputs": [],
   "source": [
    "#Отправления по FBS"
   ]
  },
  {
   "cell_type": "code",
   "execution_count": null,
   "id": "908676da",
   "metadata": {},
   "outputs": [],
   "source": [
    "https://github.com/lifeindarkside/OZON-reports-py/blob/main/ozon_main.py"
   ]
  }
 ],
 "metadata": {
  "kernelspec": {
   "display_name": "Python 3 (ipykernel)",
   "language": "python",
   "name": "python3"
  },
  "language_info": {
   "codemirror_mode": {
    "name": "ipython",
    "version": 3
   },
   "file_extension": ".py",
   "mimetype": "text/x-python",
   "name": "python",
   "nbconvert_exporter": "python",
   "pygments_lexer": "ipython3",
   "version": "3.9.12"
  }
 },
 "nbformat": 4,
 "nbformat_minor": 5
}
